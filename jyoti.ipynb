{
 "cells": [
  {
   "cell_type": "code",
   "execution_count": null,
   "id": "21b1017d-fa2b-4713-9d1e-1a0087da0e97",
   "metadata": {},
   "outputs": [],
   "source": [
    "what is python, and why is popular?"
   ]
  },
  {
   "cell_type": "code",
   "execution_count": null,
   "id": "c6a9d07c-bea1-4d63-a1c7-be180a2f782b",
   "metadata": {},
   "outputs": [],
   "source": [
    "ans. python is a high level language."
   ]
  }
 ],
 "metadata": {
  "kernelspec": {
   "display_name": "Python 3 (ipykernel)",
   "language": "python",
   "name": "python3"
  },
  "language_info": {
   "codemirror_mode": {
    "name": "ipython",
    "version": 3
   },
   "file_extension": ".py",
   "mimetype": "text/x-python",
   "name": "python",
   "nbconvert_exporter": "python",
   "pygments_lexer": "ipython3",
   "version": "3.12.7"
  }
 },
 "nbformat": 4,
 "nbformat_minor": 5
}
